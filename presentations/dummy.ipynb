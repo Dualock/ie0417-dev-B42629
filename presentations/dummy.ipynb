{
 "cells": [
  {
   "cell_type": "markdown",
   "id": "082dd86d",
   "metadata": {
    "slideshow": {
     "slide_type": "slide"
    }
   },
   "source": [
    "# Title 1\n",
    "\n",
    "## Subtitle A\n",
    "\n",
    "This is an explanation about Title 1 - Subtitle A"
   ]
  },
  {
   "cell_type": "code",
   "execution_count": 1,
   "id": "a45d824b",
   "metadata": {
    "slideshow": {
     "slide_type": "slide"
    }
   },
   "outputs": [
    {
     "name": "stdout",
     "output_type": "stream",
     "text": [
      "[1, 2, 3]\n"
     ]
    }
   ],
   "source": [
    "a = [1, 2 ,3]\n",
    "print(a)"
   ]
  },
  {
   "cell_type": "markdown",
   "id": "b012612c",
   "metadata": {
    "slideshow": {
     "slide_type": "slide"
    }
   },
   "source": [
    "## Title 2\n",
    "\n",
    "## Subtitle A\n",
    "\n",
    "This is an explanation about Title 2 - Subtitle A\n",
    "\n",
    "```c\n",
    "struct test {\n",
    "    field1;\n",
    "    field2;\n",
    "};\n",
    "```\n",
    "\n"
   ]
  }
 ],
 "metadata": {
  "celltoolbar": "Slideshow",
  "kernelspec": {
   "display_name": "Python 3 (ipykernel)",
   "language": "python",
   "name": "python3"
  },
  "language_info": {
   "codemirror_mode": {
    "name": "ipython",
    "version": 3
   },
   "file_extension": ".py",
   "mimetype": "text/x-python",
   "name": "python",
   "nbconvert_exporter": "python",
   "pygments_lexer": "ipython3",
   "version": "3.8.10"
  }
 },
 "nbformat": 4,
 "nbformat_minor": 5
}
